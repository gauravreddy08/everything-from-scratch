{
 "cells": [
  {
   "cell_type": "code",
   "execution_count": 7,
   "metadata": {
    "executionInfo": {
     "elapsed": 2,
     "status": "ok",
     "timestamp": 1739936280463,
     "user": {
      "displayName": "Gaurav Reddy Tadkapally",
      "userId": "04927215883267902569"
     },
     "user_tz": 360
    },
    "id": "k6g1rpEYQfy1"
   },
   "outputs": [],
   "source": [
    "import torch\n",
    "from torch import nn"
   ]
  },
  {
   "cell_type": "code",
   "execution_count": 8,
   "metadata": {
    "colab": {
     "base_uri": "https://localhost:8080/"
    },
    "executionInfo": {
     "elapsed": 11,
     "status": "ok",
     "timestamp": 1739936571269,
     "user": {
      "displayName": "Gaurav Reddy Tadkapally",
      "userId": "04927215883267902569"
     },
     "user_tz": 360
    },
    "id": "uCoOfUheQnct",
    "outputId": "647c450b-1111-4f2b-e04e-183e211695af"
   },
   "outputs": [
    {
     "name": "stdout",
     "output_type": "stream",
     "text": [
      "Mean of Tensor: tensor([0.4423])\n",
      "Variance of Tensor: tensor([0.0820])\n"
     ]
    }
   ],
   "source": [
    "x = torch.rand(32, 128)\n",
    "\n",
    "print(f\"Mean of Tensor: {torch.mean(x[0], dim=-1, keepdim=True)}\")\n",
    "print(f\"Variance of Tensor: {torch.var(x[0], dim=-1, keepdim=True)}\")"
   ]
  },
  {
   "cell_type": "code",
   "execution_count": 9,
   "metadata": {
    "executionInfo": {
     "elapsed": 3,
     "status": "ok",
     "timestamp": 1739936588594,
     "user": {
      "displayName": "Gaurav Reddy Tadkapally",
      "userId": "04927215883267902569"
     },
     "user_tz": 360
    },
    "id": "rFsc412iQ9ri"
   },
   "outputs": [],
   "source": [
    "class LayerNorm(nn.Module):\n",
    "  def __init__(self, emb_size):\n",
    "    super().__init__()\n",
    "\n",
    "    self.scale = nn.Parameter(torch.ones(emb_size))\n",
    "    self.shift = nn.Parameter(torch.zeros(emb_size))\n",
    "\n",
    "  def forward(self, x, epsilon = 1e-7):\n",
    "    x_mean = torch.mean(x, dim=-1, keepdim=True)\n",
    "    x_var = torch.var(x, dim=-1, keepdim=True, unbiased=False)\n",
    "    x_normalized = (x - x_mean) / torch.sqrt(x_var + epsilon)\n",
    "\n",
    "    return (x_normalized + self.shift)*self.scale"
   ]
  },
  {
   "cell_type": "code",
   "execution_count": 10,
   "metadata": {
    "id": "7vGFAmvmR9_0"
   },
   "outputs": [
    {
     "name": "stdout",
     "output_type": "stream",
     "text": [
      "Mean of Normalized Tensor: tensor([-1.1176e-08], grad_fn=<MeanBackward1>)\n",
      "Variance of Normalized Tensor: tensor([1.0079], grad_fn=<VarBackward0>)\n"
     ]
    }
   ],
   "source": [
    "layernorm  = LayerNorm(128)\n",
    "x_normalized = layernorm(x)\n",
    "\n",
    "print(f\"Mean of Normalized Tensor: {torch.mean(x_normalized[0], dim=-1, keepdim=True)}\")\n",
    "print(f\"Variance of Normalized Tensor: {torch.var(x_normalized[0], dim=-1, keepdim=True)}\")"
   ]
  },
  {
   "cell_type": "code",
   "execution_count": 17,
   "metadata": {},
   "outputs": [],
   "source": [
    "class BatchNorm(nn.Module):\n",
    "  def __init__(self, emb_size):\n",
    "    super().__init__()\n",
    "\n",
    "    self.scale = nn.Parameter(torch.ones(emb_size))\n",
    "    self.shift = nn.Parameter(torch.zeros(emb_size))\n",
    "\n",
    "  def forward(self, x, epsilon = 1e-7):\n",
    "    x_mean = torch.mean(x, dim=0, keepdim=True)\n",
    "    x_var = torch.var(x, dim=0, keepdim=True, unbiased=False)\n",
    "    x_normalized = (x - x_mean) / torch.sqrt(x_var + epsilon)\n",
    "\n",
    "    return (x_normalized + self.shift)*self.scale"
   ]
  },
  {
   "cell_type": "code",
   "execution_count": 22,
   "metadata": {
    "id": "xzvCH-zSTFoe"
   },
   "outputs": [
    {
     "name": "stdout",
     "output_type": "stream",
     "text": [
      "Mean of Normalized Tensor: 8.568167686462402e-08\n",
      "Variance of Normalized Tensor: 1.032257080078125\n"
     ]
    }
   ],
   "source": [
    "batchnorm  = BatchNorm(128)\n",
    "x_normalized = batchnorm(x)\n",
    "\n",
    "print(f\"Mean of Normalized Tensor: {torch.mean(x_normalized, dim=0, keepdim=True)[0][0]}\")\n",
    "print(f\"Variance of Normalized Tensor: {torch.var(x_normalized, dim=0, keepdim=True)[0][0]}\")"
   ]
  }
 ],
 "metadata": {
  "colab": {
   "authorship_tag": "ABX9TyMBn5woNU+N0efnMBQ9LTHs",
   "provenance": []
  },
  "kernelspec": {
   "display_name": "Python 3",
   "name": "python3"
  },
  "language_info": {
   "codemirror_mode": {
    "name": "ipython",
    "version": 3
   },
   "file_extension": ".py",
   "mimetype": "text/x-python",
   "name": "python",
   "nbconvert_exporter": "python",
   "pygments_lexer": "ipython3",
   "version": "3.12.2"
  }
 },
 "nbformat": 4,
 "nbformat_minor": 0
}
