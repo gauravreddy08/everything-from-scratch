{
 "cells": [
  {
   "cell_type": "code",
   "execution_count": 1,
   "metadata": {
    "executionInfo": {
     "elapsed": 9758,
     "status": "ok",
     "timestamp": 1739295062210,
     "user": {
      "displayName": "Gaurav Reddy Tadkapally",
      "userId": "04927215883267902569"
     },
     "user_tz": 360
    },
    "id": "wqDdgFcq6l85"
   },
   "outputs": [],
   "source": [
    "import torch\n",
    "from torch import nn"
   ]
  },
  {
   "cell_type": "code",
   "execution_count": 2,
   "metadata": {
    "executionInfo": {
     "elapsed": 2,
     "status": "ok",
     "timestamp": 1739295062214,
     "user": {
      "displayName": "Gaurav Reddy Tadkapally",
      "userId": "04927215883267902569"
     },
     "user_tz": 360
    },
    "id": "JOLwIru16pH8"
   },
   "outputs": [],
   "source": [
    "from typing import List\n",
    "\n",
    "class MLP(nn.Module):\n",
    "  def __init__(self, layers: List):\n",
    "    super().__init__()\n",
    "\n",
    "    self.weights = []\n",
    "    self.bias = []\n",
    "\n",
    "    for i in range(len(layers)-1):\n",
    "      self.weights.append(torch.randn((layers[i], layers[i+1])))\n",
    "      self.bias.append(torch.randn(()))\n",
    "\n",
    "    self.weights = nn.ParameterList(self.weights)\n",
    "    self.bias = nn.ParameterList(self.bias)\n",
    "  def forward(self, X):\n",
    "    for i in range(len(self.bias)):\n",
    "      X = X @ self.weights[i] + self.bias[i]\n",
    "    return X"
   ]
  },
  {
   "cell_type": "code",
   "execution_count": 3,
   "metadata": {
    "executionInfo": {
     "elapsed": 8,
     "status": "ok",
     "timestamp": 1739295124355,
     "user": {
      "displayName": "Gaurav Reddy Tadkapally",
      "userId": "04927215883267902569"
     },
     "user_tz": 360
    },
    "id": "KKyHPMCK7gBX"
   },
   "outputs": [],
   "source": [
    "from sklearn.datasets import make_regression\n",
    "from sklearn.model_selection import train_test_split\n",
    "\n",
    "X, y = make_regression(100, 16, random_state=42)\n",
    "y = y.reshape(-1, 1)\n",
    "\n",
    "X_train, X_test, y_train, y_test = train_test_split(torch.Tensor(X), torch.Tensor(y), test_size=0.2, random_state=42)"
   ]
  },
  {
   "cell_type": "code",
   "execution_count": 4,
   "metadata": {
    "executionInfo": {
     "elapsed": 9,
     "status": "ok",
     "timestamp": 1739295132104,
     "user": {
      "displayName": "Gaurav Reddy Tadkapally",
      "userId": "04927215883267902569"
     },
     "user_tz": 360
    },
    "id": "Vjp82zKTEI80"
   },
   "outputs": [],
   "source": [
    "device = 'cuda' if torch.cuda.is_available() else 'cpu'"
   ]
  },
  {
   "cell_type": "code",
   "execution_count": 5,
   "metadata": {
    "colab": {
     "base_uri": "https://localhost:8080/",
     "height": 1000
    },
    "executionInfo": {
     "elapsed": 904067,
     "status": "error",
     "timestamp": 1739296097935,
     "user": {
      "displayName": "Gaurav Reddy Tadkapally",
      "userId": "04927215883267902569"
     },
     "user_tz": 360
    },
    "id": "wedcZdp79Kmv",
    "outputId": "ab7afa4d-097d-4afc-e088-a35f57de5271"
   },
   "outputs": [
    {
     "name": "stdout",
     "output_type": "stream",
     "text": [
      "0/10000 | loss: 5926017.0\n",
      "1000/10000 | loss: 28678.615234375\n",
      "2000/10000 | loss: 10187.4814453125\n",
      "3000/10000 | loss: 2314.198974609375\n",
      "4000/10000 | loss: 171.0224151611328\n",
      "5000/10000 | loss: 1.3874528408050537\n",
      "6000/10000 | loss: 0.0009402299183420837\n",
      "7000/10000 | loss: 7.953208296385128e-06\n",
      "8000/10000 | loss: 5.692430704584694e-07\n",
      "9000/10000 | loss: 1.5557289145817776e-07\n"
     ]
    }
   ],
   "source": [
    "model = MLP([16, 32, 64, 32, 4, 1]).to(device)\n",
    "\n",
    "def mse(y_true, y_pred):\n",
    "  return torch.mean(torch.square(y_true - y_pred), axis=0)\n",
    "\n",
    "optimizer = torch.optim.Adam(model.parameters(), lr=0.0001)\n",
    "loss_fn = mse\n",
    "epochs = 10000\n",
    "\n",
    "results = {'train': [], 'test': []}\n",
    "\n",
    "for epoch in range(epochs):\n",
    "  model.train()\n",
    "  y_pred = model(X_train.to(device))\n",
    "  optimizer.zero_grad()\n",
    "  loss = mse(y_train.to(device), y_pred)\n",
    "  loss.backward()\n",
    "  optimizer.step()\n",
    "  results['train'].append(loss.item())\n",
    "\n",
    "  with torch.no_grad():\n",
    "    model.eval()\n",
    "    y_pred = model(X_test.to(device))\n",
    "    loss = mse(y_test.to(device), y_pred)\n",
    "    results['test'].append(loss.item())\n",
    "    if epoch % 1000 == 0:\n",
    "      print(f'{epoch}/{epochs} | loss: {loss.item()}')"
   ]
  },
  {
   "cell_type": "code",
   "execution_count": 6,
   "metadata": {
    "colab": {
     "base_uri": "https://localhost:8080/",
     "height": 477
    },
    "executionInfo": {
     "elapsed": 521,
     "status": "ok",
     "timestamp": 1739296101265,
     "user": {
      "displayName": "Gaurav Reddy Tadkapally",
      "userId": "04927215883267902569"
     },
     "user_tz": 360
    },
    "id": "UDZ0XGR19wkz",
    "outputId": "419f4e19-1185-4c7f-d20e-b23b9640e4d5"
   },
   "outputs": [
    {
     "data": {
      "text/plain": [
       "[<matplotlib.lines.Line2D at 0x153021a30>]"
      ]
     },
     "execution_count": 6,
     "metadata": {},
     "output_type": "execute_result"
    },
    {
     "data": {
      "image/png": "[encoded data removed]",
      "text/plain": [
       "<Figure size 1000x500 with 1 Axes>"
      ]
     },
     "metadata": {},
     "output_type": "display_data"
    }
   ],
   "source": [
    "import matplotlib.pyplot as plt\n",
    "\n",
    "plt.figure(figsize=(10, 5))\n",
    "plt.plot(range(len(results['test'])), results['test'], label='Validation Loss')\n",
    "plt.plot(range(len(results['train'])), results['train'], label='Train Loss')"
   ]
  }
 ],
 "metadata": {
  "accelerator": "GPU",
  "colab": {
   "authorship_tag": "ABX9TyPzPXUxRrrjQK7pC5G5aLfa",
   "gpuType": "T4",
   "provenance": []
  },
  "kernelspec": {
   "display_name": "Python 3",
   "name": "python3"
  },
  "language_info": {
   "codemirror_mode": {
    "name": "ipython",
    "version": 3
   },
   "file_extension": ".py",
   "mimetype": "text/x-python",
   "name": "python",
   "nbconvert_exporter": "python",
   "pygments_lexer": "ipython3",
   "version": "3.12.2"
  }
 },
 "nbformat": 4,
 "nbformat_minor": 0
}
