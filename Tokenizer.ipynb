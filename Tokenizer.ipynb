{
 "cells": [
  {
   "cell_type": "code",
   "execution_count": 2,
   "metadata": {
    "id": "vmahMD_tulb9"
   },
   "outputs": [],
   "source": [
    "import numpy as np\n",
    "import re"
   ]
  },
  {
   "cell_type": "code",
   "execution_count": 3,
   "metadata": {
    "colab": {
     "base_uri": "https://localhost:8080/"
    },
    "executionInfo": {
     "elapsed": 361,
     "status": "ok",
     "timestamp": 1739857974011,
     "user": {
      "displayName": "Gaurav Reddy Tadkapally",
      "userId": "04927215883267902569"
     },
     "user_tz": 360
    },
    "id": "sYG5jPMhuoY_",
    "outputId": "467e2867-cc4d-499f-a509-c34c42bc78b2"
   },
   "outputs": [
    {
     "name": "stdout",
     "output_type": "stream",
     "text": [
      "--2025-02-19 12:48:28--  https://raw.githubusercontent.com/karpathy/char-rnn/master/data/tinyshakespeare/input.txt\n",
      "Resolving raw.githubusercontent.com (raw.githubusercontent.com)... 2606:50c0:8003::154, 2606:50c0:8000::154, 2606:50c0:8002::154, ...\n",
      "Connecting to raw.githubusercontent.com (raw.githubusercontent.com)|2606:50c0:8003::154|:443... connected.\n",
      "HTTP request sent, awaiting response... 200 OK\n",
      "Length: 1115394 (1.1M) [text/plain]\n",
      "Saving to: ‘input.txt’\n",
      "\n",
      "input.txt           100%[===================>]   1.06M  --.-KB/s    in 0.04s   \n",
      "\n",
      "2025-02-19 12:48:29 (24.6 MB/s) - ‘input.txt’ saved [1115394/1115394]\n",
      "\n"
     ]
    }
   ],
   "source": [
    "!wget https://raw.githubusercontent.com/karpathy/char-rnn/master/data/tinyshakespeare/input.txt"
   ]
  },
  {
   "cell_type": "code",
   "execution_count": 4,
   "metadata": {
    "id": "xG0a1KBNupdO"
   },
   "outputs": [],
   "source": [
    "with open('input.txt', 'r') as file:\n",
    "  raw_data = file.read()"
   ]
  },
  {
   "cell_type": "code",
   "execution_count": 5,
   "metadata": {
    "colab": {
     "base_uri": "https://localhost:8080/",
     "height": 35
    },
    "executionInfo": {
     "elapsed": 6,
     "status": "ok",
     "timestamp": 1739857974012,
     "user": {
      "displayName": "Gaurav Reddy Tadkapally",
      "userId": "04927215883267902569"
     },
     "user_tz": 360
    },
    "id": "jfOBZcLAuuG-",
    "outputId": "727e61f1-f522-472b-87fe-33e3db745e93"
   },
   "outputs": [
    {
     "data": {
      "text/plain": [
       "'First Citizen:\\nBefore we proceed any further, hear me speak.\\n\\nAll:\\nSpeak, speak.\\n\\nFirst Citizen:\\nYou'"
      ]
     },
     "execution_count": 5,
     "metadata": {},
     "output_type": "execute_result"
    }
   ],
   "source": [
    "raw_data[:100]"
   ]
  },
  {
   "cell_type": "code",
   "execution_count": 6,
   "metadata": {
    "colab": {
     "base_uri": "https://localhost:8080/"
    },
    "executionInfo": {
     "elapsed": 163,
     "status": "ok",
     "timestamp": 1739857974392,
     "user": {
      "displayName": "Gaurav Reddy Tadkapally",
      "userId": "04927215883267902569"
     },
     "user_tz": 360
    },
    "id": "e3MsK0Jcuwbv",
    "outputId": "faa1d999-17d0-4597-9223-f7e2a10a53a3"
   },
   "outputs": [
    {
     "data": {
      "text/plain": [
       "['First', ' ', 'Citizen', ':', '', '\\n', 'Before', ' ', 'we', ' ']"
      ]
     },
     "execution_count": 6,
     "metadata": {},
     "output_type": "execute_result"
    }
   ],
   "source": [
    "preprocessed = re.split(r'([,.:;?_!\"()\\']|--|\\s)', raw_data)\n",
    "preprocessed[:10]"
   ]
  },
  {
   "cell_type": "code",
   "execution_count": 7,
   "metadata": {
    "id": "YwBZOvT3u5Iy"
   },
   "outputs": [],
   "source": [
    "vocab = list(set(preprocessed))\n",
    "vocab.sort()\n",
    "vocab = dict(zip(range(len(vocab)), vocab))\n",
    "\n",
    "vocab[len(vocab)] = '<UNK>'"
   ]
  },
  {
   "cell_type": "code",
   "execution_count": 8,
   "metadata": {
    "id": "W59AyePyvgpw"
   },
   "outputs": [],
   "source": [
    "class SimpleTokenizer():\n",
    "  def __init__(self, vocab):\n",
    "    self.vocab = vocab\n",
    "    self.inverted_vocab = {v: k for k, v in self.vocab.items()}\n",
    "\n",
    "  def __call__(self, text):\n",
    "    return self.encode(text)\n",
    "\n",
    "  def decode(self, tokens):\n",
    "    out = [self.vocab.get(token, '<UNK>') for token in tokens]\n",
    "    return \"\".join(out)\n",
    "\n",
    "  def encode(self, text):\n",
    "    preprocessed = re.split(r'([,.:;?_!\"()\\']|--|\\s)', text)\n",
    "    out = [self.inverted_vocab.get(token, self.inverted_vocab['<UNK>']) for token in preprocessed]\n",
    "    return out"
   ]
  },
  {
   "cell_type": "code",
   "execution_count": 9,
   "metadata": {
    "id": "M8ZIWvM_vg4d"
   },
   "outputs": [],
   "source": [
    "tokenizer = SimpleTokenizer(vocab)"
   ]
  },
  {
   "cell_type": "code",
   "execution_count": 10,
   "metadata": {
    "id": "RQyZ_v_oyO8U"
   },
   "outputs": [],
   "source": [
    "all_tokens = tokenizer(raw_data)"
   ]
  }
 ],
 "metadata": {
  "colab": {
   "authorship_tag": "ABX9TyPmQf6/Yk27R7mWwyUw1eGx",
   "provenance": []
  },
  "kernelspec": {
   "display_name": "Python 3",
   "name": "python3"
  },
  "language_info": {
   "codemirror_mode": {
    "name": "ipython",
    "version": 3
   },
   "file_extension": ".py",
   "mimetype": "text/x-python",
   "name": "python",
   "nbconvert_exporter": "python",
   "pygments_lexer": "ipython3",
   "version": "3.12.2"
  }
 },
 "nbformat": 4,
 "nbformat_minor": 0
}
