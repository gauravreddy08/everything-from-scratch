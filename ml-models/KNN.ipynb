{
 "cells": [
  {
   "cell_type": "code",
   "execution_count": 12,
   "metadata": {
    "executionInfo": {
     "elapsed": 50,
     "status": "ok",
     "timestamp": 1739316828160,
     "user": {
      "displayName": "Gaurav Reddy Tadkapally",
      "userId": "04927215883267902569"
     },
     "user_tz": 360
    },
    "id": "IB5Xa6e-VoR9"
   },
   "outputs": [],
   "source": [
    "from sklearn.datasets import make_blobs\n",
    "from sklearn.model_selection import train_test_split\n",
    "import numpy as np\n",
    "from scipy.stats import mode"
   ]
  },
  {
   "cell_type": "code",
   "execution_count": 11,
   "metadata": {
    "executionInfo": {
     "elapsed": 65,
     "status": "ok",
     "timestamp": 1739316678910,
     "user": {
      "displayName": "Gaurav Reddy Tadkapally",
      "userId": "04927215883267902569"
     },
     "user_tz": 360
    },
    "id": "aV7jNofDVtGW"
   },
   "outputs": [],
   "source": [
    "X, y = make_blobs(1000, 3)\n",
    "y = y.reshape(-1, 1)\n",
    "\n",
    "X_train, X_test, y_train, y_test = train_test_split(X, y, test_size=0.2, random_state=422)"
   ]
  },
  {
   "cell_type": "code",
   "execution_count": 56,
   "metadata": {
    "executionInfo": {
     "elapsed": 49,
     "status": "ok",
     "timestamp": 1739317324518,
     "user": {
      "displayName": "Gaurav Reddy Tadkapally",
      "userId": "04927215883267902569"
     },
     "user_tz": 360
    },
    "id": "lUpqiO9LV0_z"
   },
   "outputs": [],
   "source": [
    "class KNN():\n",
    "  def __init__(self, k):\n",
    "    self.k = k\n",
    "\n",
    "  def __call__(self, X_train, X_test, y_train, y_test):\n",
    "    y_pred = [0] * len(y_test)\n",
    "    for i in range(len(X_test)):\n",
    "      distances = np.linalg.norm(X_train - X_test[i], axis=1)\n",
    "      ranked_distances = np.argsort(distances)\n",
    "      top_k = ranked_distances[:self.k]\n",
    "      y_pred[i] = mode(y_train[top_k]).mode.item()\n",
    "    accuracy = self.get_accuracy(y_pred, y_test)\n",
    "    return accuracy\n",
    "  def get_accuracy(self, y_pred, y_true):\n",
    "    return sum(y_pred == y_true.reshape(-1)) / len(y_true)"
   ]
  },
  {
   "cell_type": "code",
   "execution_count": 57,
   "metadata": {
    "colab": {
     "base_uri": "https://localhost:8080/"
    },
    "executionInfo": {
     "elapsed": 172,
     "status": "ok",
     "timestamp": 1739317325129,
     "user": {
      "displayName": "Gaurav Reddy Tadkapally",
      "userId": "04927215883267902569"
     },
     "user_tz": 360
    },
    "id": "9YLaRW3WXyjo",
    "outputId": "83e32910-2416-426f-8d0d-0d6f40adda30"
   },
   "outputs": [
    {
     "data": {
      "text/plain": [
       "1.0"
      ]
     },
     "execution_count": 57,
     "metadata": {},
     "output_type": "execute_result"
    }
   ],
   "source": [
    "model = KNN(4)\n",
    "model(X_train, X_test, y_train, y_test)"
   ]
  }
 ],
 "metadata": {
  "colab": {
   "authorship_tag": "ABX9TyMGRS1n/hk/m+dYH8s/ClFa",
   "provenance": []
  },
  "kernelspec": {
   "display_name": "Python 3",
   "name": "python3"
  },
  "language_info": {
   "name": "python"
  }
 },
 "nbformat": 4,
 "nbformat_minor": 0
}
