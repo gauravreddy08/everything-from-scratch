{
 "cells": [
  {
   "cell_type": "code",
   "execution_count": 2,
   "metadata": {},
   "outputs": [],
   "source": [
    "import numpy as np"
   ]
  },
  {
   "cell_type": "code",
   "execution_count": 3,
   "metadata": {},
   "outputs": [],
   "source": [
    "y_true = np.round(np.random.rand(32, 1))\n",
    "y_pred = np.round(np.random.rand(32, 1))"
   ]
  },
  {
   "cell_type": "code",
   "execution_count": 4,
   "metadata": {},
   "outputs": [],
   "source": [
    "TP = np.sum((y_true == 1) & (y_pred == 1))\n",
    "TN = np.sum((y_true == 0) & (y_pred == 0))\n",
    "FN = np.sum((y_true == 1) & (y_pred == 0))\n",
    "FP = np.sum((y_true == 0) & (y_pred == 1))"
   ]
  },
  {
   "cell_type": "code",
   "execution_count": 6,
   "metadata": {},
   "outputs": [
    {
     "name": "stdout",
     "output_type": "stream",
     "text": [
      "True\n",
      "True\n",
      "True\n",
      "True\n"
     ]
    }
   ],
   "source": [
    "from sklearn.metrics import precision_score, recall_score, f1_score, accuracy_score\n",
    "\n",
    "precision = TP / (TP + FP)\n",
    "print(np.allclose(precision_score(y_true, y_pred), precision))\n",
    "\n",
    "recall = TP / (TP + FN)\n",
    "print(np.allclose(recall_score(y_true, y_pred), recall))\n",
    "\n",
    "f1score = 2*(recall**-1 + precision**-1)**-1\n",
    "print(np.allclose(f1_score(y_true, y_pred), f1score))\n",
    "\n",
    "acc = np.sum(y_true == y_pred)/len(y_true)\n",
    "print(np.allclose(acc, accuracy_score(y_true, y_pred)))"
   ]
  }
 ],
 "metadata": {
  "kernelspec": {
   "display_name": "Python 3",
   "language": "python",
   "name": "python3"
  },
  "language_info": {
   "codemirror_mode": {
    "name": "ipython",
    "version": 3
   },
   "file_extension": ".py",
   "mimetype": "text/x-python",
   "name": "python",
   "nbconvert_exporter": "python",
   "pygments_lexer": "ipython3",
   "version": "3.12.2"
  }
 },
 "nbformat": 4,
 "nbformat_minor": 2
}
