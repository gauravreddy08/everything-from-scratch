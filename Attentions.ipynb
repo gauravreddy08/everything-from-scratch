{
 "cells": [
  {
   "cell_type": "code",
   "execution_count": 2,
   "metadata": {},
   "outputs": [],
   "source": [
    "import torch\n",
    "import numpy as np\n",
    "from torch import nn"
   ]
  },
  {
   "cell_type": "code",
   "execution_count": 3,
   "metadata": {},
   "outputs": [
    {
     "name": "stdout",
     "output_type": "stream",
     "text": [
      "torch.Size([32, 64, 128])\n"
     ]
    }
   ],
   "source": [
    "b = 32\n",
    "input_length = 64\n",
    "embed_dim = 128\n",
    "\n",
    "x = torch.randn(b, input_length, embed_dim)\n",
    "print(x.shape)"
   ]
  },
  {
   "cell_type": "code",
   "execution_count": 4,
   "metadata": {},
   "outputs": [],
   "source": [
    "class SelfAttention(nn.Module):\n",
    "  def __init__(self, in_dim, out_dim):\n",
    "    super().__init__()\n",
    "\n",
    "    self.K = nn.Linear(in_dim, out_dim, bias=False)\n",
    "    self.Q = nn.Linear(in_dim, out_dim, bias=False)\n",
    "    self.V = nn.Linear(in_dim, out_dim, bias=False)\n",
    "\n",
    "  def forward(self, x):\n",
    "    key = self.K(x)\n",
    "    query = self.Q(x)\n",
    "    value = self.V(x)\n",
    "\n",
    "    d_k = key.shape[1]\n",
    "    kq = (key @ query.transpose(1, 2)) / d_k**0.5\n",
    "\n",
    "    context_length = x.shape[1]\n",
    "    mask = torch.tril(torch.ones(context_length, context_length))\n",
    "    kq_masked = kq.masked_fill(mask == 0, -torch.inf)\n",
    "    softmax_kq = torch.nn.functional.softmax(kq_masked, dim=-1)\n",
    "    out = softmax_kq @ value\n",
    "\n",
    "    return out"
   ]
  },
  {
   "cell_type": "code",
   "execution_count": 5,
   "metadata": {},
   "outputs": [
    {
     "name": "stdout",
     "output_type": "stream",
     "text": [
      "torch.Size([32, 64, 128])\n"
     ]
    }
   ],
   "source": [
    "attention = SelfAttention(128, 128)\n",
    "out = attention(x)\n",
    "print(out.shape)"
   ]
  },
  {
   "cell_type": "code",
   "execution_count": 6,
   "metadata": {},
   "outputs": [
    {
     "name": "stdout",
     "output_type": "stream",
     "text": [
      "torch.Size([32, 64, 128])\n"
     ]
    }
   ],
   "source": [
    "class NaiveMultiHeadAttention(nn.Module):\n",
    "  def __init__(self, in_dim, out_dim, num_heads):\n",
    "    super().__init__()\n",
    "\n",
    "    self.heads = nn.ModuleList([SelfAttention(in_dim, out_dim//num_heads) for _ in range(num_heads)])\n",
    "    self.linear_layer = nn.Linear(num_heads * (out_dim//num_heads), out_dim)\n",
    "\n",
    "  def forward(self, x):\n",
    "    out = torch.concat([head(x) for head in self.heads], dim=-1)\n",
    "    return self.linear_layer(out)\n",
    "\n",
    "multi_head_attention = NaiveMultiHeadAttention(128, 128, 8)\n",
    "out = multi_head_attention(x)\n",
    "print(out.shape)"
   ]
  },
  {
   "cell_type": "code",
   "execution_count": 7,
   "metadata": {},
   "outputs": [
    {
     "data": {
      "text/plain": [
       "torch.Size([32, 64, 8])"
      ]
     },
     "execution_count": 7,
     "metadata": {},
     "output_type": "execute_result"
    }
   ],
   "source": [
    "class MultiHeadAttention(nn.Module):\n",
    "  def __init__(self, in_dim, out_dim, num_heads, dropout=0.2, bias=False):\n",
    "    super().__init__()\n",
    "    self.K = nn.Linear(in_dim, out_dim, bias=bias)\n",
    "    self.Q = nn.Linear(in_dim, out_dim, bias=bias)\n",
    "    self.V = nn.Linear(in_dim, out_dim, bias=bias)\n",
    "\n",
    "    self.num_heads = num_heads\n",
    "    self.in_dim = in_dim\n",
    "    self.out_dim = out_dim\n",
    "\n",
    "  def forward(self, x):\n",
    "    key = self.K(x)\n",
    "    query = self.Q(x)\n",
    "    value = self.V(x)\n",
    "\n",
    "    context_length = x.shape[1]\n",
    "\n",
    "    key = key.view(b, input_length, self.num_heads, self.out_dim//self.num_heads).transpose(1, 2)\n",
    "    query = query.view(b, input_length, self.num_heads, self.out_dim//self.num_heads).transpose(1, 2)\n",
    "    value = value.view(b, input_length, self.num_heads, self.out_dim//self.num_heads).transpose(1, 2)\n",
    "\n",
    "    out = (query @ key.transpose(2, 3))/ key.shape[-1]**0.5\n",
    "    mask = torch.tril(torch.ones(context_length, context_length))\n",
    "    out_masked = out.masked_fill(mask == 0, -torch.inf)\n",
    "    softmax_kq = torch.nn.functional.softmax(out_masked, dim=-1)\n",
    "    out = softmax_kq @ value\n",
    "    out = out.transpose(1, 2).contiguous()\n",
    "\n",
    "    return out.view(x.shape[0], x.shape[1], self.out_dim)\n",
    "  \n",
    "multi_head_attention = MultiHeadAttention(embed_dim, 8, 2)\n",
    "multi_head_attention(x).shape"
   ]
  },
  {
   "cell_type": "code",
   "execution_count": null,
   "metadata": {},
   "outputs": [],
   "source": []
  }
 ],
 "metadata": {
  "kernelspec": {
   "display_name": "Python 3",
   "language": "python",
   "name": "python3"
  },
  "language_info": {
   "codemirror_mode": {
    "name": "ipython",
    "version": 3
   },
   "file_extension": ".py",
   "mimetype": "text/x-python",
   "name": "python",
   "nbconvert_exporter": "python",
   "pygments_lexer": "ipython3",
   "version": "3.12.2"
  }
 },
 "nbformat": 4,
 "nbformat_minor": 2
}
