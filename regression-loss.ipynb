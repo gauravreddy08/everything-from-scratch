{
 "cells": [
  {
   "cell_type": "code",
   "execution_count": 3,
   "metadata": {},
   "outputs": [],
   "source": [
    "import numpy as np\n",
    "from sklearn import metrics"
   ]
  },
  {
   "cell_type": "code",
   "execution_count": 4,
   "metadata": {},
   "outputs": [],
   "source": [
    "def mse(y_true, y_pred):\n",
    "    return np.mean(np.square(y_pred - y_true))\n",
    "\n",
    "def mae(y_true, y_pred):\n",
    "    return np.mean(np.abs(y_true - y_pred))\n",
    "\n",
    "def rmse(y_true, y_pred):\n",
    "    return np.sqrt(mse(y_true, y_pred))\n",
    "\n",
    "def r2(y_true, y_pred):\n",
    "    rss_total = np.sum(np.square(y_true - np.mean(y_true)))\n",
    "    rss_pred = np.sum(np.square(y_true - y_pred))\n",
    "    return 1 - (rss_pred/rss_total)"
   ]
  },
  {
   "cell_type": "code",
   "execution_count": 5,
   "metadata": {},
   "outputs": [],
   "source": [
    "y_true = np.random.randn(32, 128)\n",
    "y_pred = np.random.randn(32, 128)"
   ]
  },
  {
   "cell_type": "code",
   "execution_count": 7,
   "metadata": {},
   "outputs": [
    {
     "name": "stdout",
     "output_type": "stream",
     "text": [
      "MSE:  1.9704421091558983\n",
      "MSE:  1.9704421091558986\n",
      "MAE:  1.123495606621915\n",
      "MAE:  1.123495606621915\n",
      "RMSE:  1.403724370792179\n",
      "RMSE:  1.3924150987253197\n",
      "R2:  -0.9405685559291708\n",
      "R2:  -1.081588482405749\n"
     ]
    }
   ],
   "source": [
    "print(\"MSE: \", mse(y_true, y_pred))\n",
    "print(\"MSE: \", metrics.mean_squared_error(y_true, y_pred))\n",
    "\n",
    "print(\"MAE: \", mae(y_true, y_pred))\n",
    "print(\"MAE: \", metrics.mean_absolute_error(y_true, y_pred))\n",
    "\n",
    "print(\"RMSE: \", rmse(y_true, y_pred))\n",
    "print(\"RMSE: \", metrics.root_mean_squared_error(y_true, y_pred))\n",
    "\n",
    "print(\"R2: \", r2(y_true, y_pred))\n",
    "print(\"R2: \", metrics.r2_score(y_true, y_pred))"
   ]
  },
  {
   "cell_type": "code",
   "execution_count": null,
   "metadata": {},
   "outputs": [],
   "source": []
  }
 ],
 "metadata": {
  "kernelspec": {
   "display_name": "Python 3",
   "language": "python",
   "name": "python3"
  },
  "language_info": {
   "codemirror_mode": {
    "name": "ipython",
    "version": 3
   },
   "file_extension": ".py",
   "mimetype": "text/x-python",
   "name": "python",
   "nbconvert_exporter": "python",
   "pygments_lexer": "ipython3",
   "version": "3.12.2"
  }
 },
 "nbformat": 4,
 "nbformat_minor": 2
}
