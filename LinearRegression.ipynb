{
 "cells": [
  {
   "cell_type": "code",
   "execution_count": 1,
   "metadata": {
    "executionInfo": {
     "elapsed": 11232,
     "status": "ok",
     "timestamp": 1739238344904,
     "user": {
      "displayName": "Gaurav Reddy Tadkapally",
      "userId": "04927215883267902569"
     },
     "user_tz": 360
    },
    "id": "W8QyeeoAQhIW"
   },
   "outputs": [],
   "source": [
    "import torch\n",
    "import numpy as np"
   ]
  },
  {
   "cell_type": "code",
   "execution_count": 68,
   "metadata": {
    "executionInfo": {
     "elapsed": 9,
     "status": "ok",
     "timestamp": 1739239054769,
     "user": {
      "displayName": "Gaurav Reddy Tadkapally",
      "userId": "04927215883267902569"
     },
     "user_tz": 360
    },
    "id": "O16p-woLQl2-"
   },
   "outputs": [],
   "source": [
    "class LinearRegression():\n",
    "  def __init__(self, n_features):\n",
    "    self.weights = np.random.randn(n_features, 1)\n",
    "    self.bias = np.random.randn()\n",
    "\n",
    "    self.loss_metrics = {'mse': self._mse,\n",
    "                         'rmse': self._rmse,\n",
    "                         'mae': self._mae,\n",
    "                         'r2': self._r2}\n",
    "\n",
    "  def __call__(self, X):\n",
    "    out = (X @ self.weights) + self.bias\n",
    "    return out\n",
    "\n",
    "  def fit(self, X, y, steps=10000, lr=1e-3, log_interval = 100):\n",
    "\n",
    "    for step in range(steps):\n",
    "      y_pred = self(X)\n",
    "      train_loss = self.loss(y, y_pred)\n",
    "      if step % log_interval==0:\n",
    "        print(f\"{step}/{steps} | loss: {train_loss}\")\n",
    "\n",
    "      self.weights = self.weights - (lr * (2 * (X.T @ (y_pred - y))) / len(y))\n",
    "      self.bias = self.bias - (lr * 2 * np.mean(y_pred - y))\n",
    "\n",
    "  def loss(self, y_true, y_pred, loss_fn='mse'):\n",
    "    if loss_fn not in self.loss_metrics:\n",
    "      raise KeyError(f'Select appropriate loss function. {list(self.loss_metrics.keys())}')\n",
    "\n",
    "    # y_true = y_true.reshape(y_pred.shape) # adds a dimension\n",
    "    loss_fn = self.loss_metrics[loss_fn]\n",
    "    return loss_fn(y_true, y_pred)\n",
    "\n",
    "  def _mse(self, y_true, y_pred):\n",
    "    return np.mean(np.square(y_pred - y_true))\n",
    "\n",
    "  def _mae(self, y_true, y_pred):\n",
    "    return np.mean(np.abs(y_true - y_pred))\n",
    "\n",
    "  def _rmse(self, y_true, y_pred):\n",
    "    return np.sqrt(self._mse(y_true, y_pred))\n",
    "\n",
    "  def _r2(self, y_true, y_pred):\n",
    "    rss_total = np.sum(np.square(y_true - np.mean(y_true)))\n",
    "    rss_pred = np.sum(np.square(y_true - y_pred))\n",
    "    return 1 - (rss_pred/rss_total)"
   ]
  },
  {
   "cell_type": "code",
   "execution_count": 84,
   "metadata": {
    "executionInfo": {
     "elapsed": 4,
     "status": "ok",
     "timestamp": 1739239319932,
     "user": {
      "displayName": "Gaurav Reddy Tadkapally",
      "userId": "04927215883267902569"
     },
     "user_tz": 360
    },
    "id": "y7XB32sxRHaB"
   },
   "outputs": [],
   "source": [
    "from sklearn.datasets import make_regression\n",
    "from sklearn.model_selection import train_test_split\n",
    "\n",
    "X, y = make_regression(100, 16, random_state=42)\n",
    "y = y.reshape(-1, 1)\n",
    "\n",
    "X_train, X_test, y_train, y_test = train_test_split(X, y, test_size=0.2, random_state=42)"
   ]
  },
  {
   "cell_type": "code",
   "execution_count": 85,
   "metadata": {
    "executionInfo": {
     "elapsed": 3,
     "status": "ok",
     "timestamp": 1739239320205,
     "user": {
      "displayName": "Gaurav Reddy Tadkapally",
      "userId": "04927215883267902569"
     },
     "user_tz": 360
    },
    "id": "4w4V-NFBuBgG"
   },
   "outputs": [],
   "source": [
    "linear_model = LinearRegression(X.shape[-1])"
   ]
  },
  {
   "cell_type": "code",
   "execution_count": 86,
   "metadata": {
    "colab": {
     "base_uri": "https://localhost:8080/"
    },
    "executionInfo": {
     "elapsed": 9,
     "status": "ok",
     "timestamp": 1739239320509,
     "user": {
      "displayName": "Gaurav Reddy Tadkapally",
      "userId": "04927215883267902569"
     },
     "user_tz": 360
    },
    "id": "xGtSAkKTr2XG",
    "outputId": "cb9f2865-0562-4358-9b54-2f59614a05bb"
   },
   "outputs": [
    {
     "name": "stdout",
     "output_type": "stream",
     "text": [
      "Loss before traning: 24165.015975320177\n"
     ]
    }
   ],
   "source": [
    "y_pred = linear_model(X_test)\n",
    "print(f\"Loss before traning: {linear_model.loss(y_test, y_pred)}\")"
   ]
  },
  {
   "cell_type": "code",
   "execution_count": 87,
   "metadata": {
    "colab": {
     "base_uri": "https://localhost:8080/"
    },
    "executionInfo": {
     "elapsed": 1714,
     "status": "ok",
     "timestamp": 1739239322571,
     "user": {
      "displayName": "Gaurav Reddy Tadkapally",
      "userId": "04927215883267902569"
     },
     "user_tz": 360
    },
    "id": "--bIa4lbtRGW",
    "outputId": "94678b9c-b6c3-4575-b638-4149b7ce9338"
   },
   "outputs": [
    {
     "name": "stdout",
     "output_type": "stream",
     "text": [
      "0/50000 | loss: 23576.071123295646\n",
      "10000/50000 | loss: 0.00654689099631354\n",
      "20000/50000 | loss: 5.99189105007318e-08\n",
      "30000/50000 | loss: 5.638673299379276e-13\n",
      "40000/50000 | loss: 5.313759754966365e-18\n"
     ]
    }
   ],
   "source": [
    "linear_model.fit(X_train, y_train, log_interval=10000, steps=50000)"
   ]
  },
  {
   "cell_type": "code",
   "execution_count": 88,
   "metadata": {
    "colab": {
     "base_uri": "https://localhost:8080/"
    },
    "executionInfo": {
     "elapsed": 7,
     "status": "ok",
     "timestamp": 1739239322584,
     "user": {
      "displayName": "Gaurav Reddy Tadkapally",
      "userId": "04927215883267902569"
     },
     "user_tz": 360
    },
    "id": "Bc_A6UoXvS6a",
    "outputId": "595b9bc8-de16-4a70-85a1-a79d6ddf695a"
   },
   "outputs": [
    {
     "name": "stdout",
     "output_type": "stream",
     "text": [
      "Loss after traning: 4.3634525720290215e-22\n"
     ]
    }
   ],
   "source": [
    "y_pred = linear_model(X_test)\n",
    "print(f\"Loss after traning: {linear_model.loss(y_test, y_pred)}\")"
   ]
  }
 ],
 "metadata": {
  "colab": {
   "authorship_tag": "ABX9TyNM0IVXisbKulVcidGhrBT8",
   "provenance": []
  },
  "kernelspec": {
   "display_name": "Python 3",
   "name": "python3"
  },
  "language_info": {
   "name": "python"
  }
 },
 "nbformat": 4,
 "nbformat_minor": 0
}
